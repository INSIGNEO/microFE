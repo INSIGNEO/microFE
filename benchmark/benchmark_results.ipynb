{
 "cells": [
  {
   "cell_type": "code",
   "execution_count": 1,
   "metadata": {},
   "outputs": [],
   "source": [
    "import numpy as np\n",
    "import pandas as pd\n",
    "import matplotlib.pyplot as plt\n",
    "import seaborn as sns\n",
    "import datetime"
   ]
  },
  {
   "cell_type": "code",
   "execution_count": 2,
   "metadata": {},
   "outputs": [],
   "source": [
    "specimens = []\n",
    "models = []\n",
    "amounts = []\n",
    "nodes = []\n",
    "ws = []\n",
    "ms = []\n",
    "imgsizes = []\n",
    "with open(\"sharc/logs.dat\", 'r') as f:\n",
    "    for line in f.readlines():\n",
    "        if \"Job\" in line:\n",
    "            l = line.split('(')\n",
    "            q = l[1].split(')')[0]\n",
    "            if \"et3\" in q:\n",
    "                specimen = \"et3\"\n",
    "                imsize = 10\n",
    "            elif \"et1\" in q:\n",
    "                specimen = \"et1\"\n",
    "                imsize = 100\n",
    "            elif \"et4\" in q:\n",
    "                specimen = \"et4\"\n",
    "                imsize = 1000\n",
    "            specimens.append(specimen)\n",
    "            imgsizes.append(imsize)\n",
    "                \n",
    "            et = q.split(specimen)[1]\n",
    "            \n",
    "            if \"ep\" in et:\n",
    "                model = \"ep\"\n",
    "            else:\n",
    "                model = \"e\"\n",
    "            models.append(model)\n",
    "            \n",
    "            am = et.split(model)[1]\n",
    "            \n",
    "            if am[0] == \"-\":\n",
    "                amount = float(am[:4])\n",
    "            else:\n",
    "                amount = float(am[:3])\n",
    "            amounts.append(amount)\n",
    "            \n",
    "            node = int(am.split('-')[-1])\n",
    "            nodes.append(node)\n",
    "            \n",
    "#             print(node, amount, model, specimen)\n",
    "\n",
    "        elif \"Wallclock\" in line:\n",
    "            w = line.split('=')[1].split(':')\n",
    "            H = int(w[0])*60*60\n",
    "            M = int(w[1])*60\n",
    "            S = int(w[2])+M+H\n",
    "            ws.append(S)\n",
    "        elif \"Max vmem\" in line:\n",
    "            m = float(line.split('=')[1][:-2])\n",
    "            ms.append(m)\n",
    "\n",
    "h = [\"Model\", \"Displacement\", \"WallclockTime\", \"MaxVmem\", \"Processes\", \"ImgSize\"]\n",
    "L = []\n",
    "for i in range(len(models)):\n",
    "    L.append([models[i], amounts[i], ws[i], ms[i], nodes[i], imgsizes[i]])\n",
    "    \n",
    "df = pd.DataFrame(L, columns=h)\n",
    "\n",
    "df[\"Speedup\"] = pd.Series(0.0, index=df.index)\n",
    "\n",
    "for imsize in set(imgsizes):\n",
    "    for d in set(amounts):\n",
    "        for m in set(models):\n",
    "            wct = df.loc[df[\"Displacement\"] == d].loc[df[\"Processes\"] == 4].loc[df[\"Model\"] == m].loc[df[\"ImgSize\"] == imsize].WallclockTime.values\n",
    "\n",
    "            ff = df.loc[df[\"Displacement\"] == d].loc[df[\"Model\"] == m].loc[df[\"ImgSize\"] == imsize]\n",
    "            for i, r in ff.iterrows():\n",
    "                try:\n",
    "                    df.loc[i, \"Speedup\"] = wct/r.WallclockTime\n",
    "                except:\n",
    "                    continue"
   ]
  },
  {
   "cell_type": "code",
   "execution_count": 4,
   "metadata": {},
   "outputs": [
    {
     "data": {
      "text/plain": [
       "<seaborn.axisgrid.FacetGrid at 0x7efc39cc1be0>"
      ]
     },
     "execution_count": 4,
     "metadata": {},
     "output_type": "execute_result"
    },
    {
     "data": {
      "image/png": "[encoded data removed]",
      "text/plain": [
       "<matplotlib.figure.Figure at 0x7efc35680d68>"
      ]
     },
     "metadata": {},
     "output_type": "display_data"
    }
   ],
   "source": [
    "sns.relplot(data=df.loc[df[\"Displacement\"] == -1], x=\"Processes\", y=\"Speedup\",\n",
    "            kind=\"line\", style=\"ImgSize\", hue=\"Model\", ci=\"sd\")"
   ]
  }
 ],
 "metadata": {
  "kernelspec": {
   "display_name": "Python 3",
   "language": "python",
   "name": "python3"
  },
  "language_info": {
   "codemirror_mode": {
    "name": "ipython",
    "version": 3
   },
   "file_extension": ".py",
   "mimetype": "text/x-python",
   "name": "python",
   "nbconvert_exporter": "python",
   "pygments_lexer": "ipython3",
   "version": "3.5.2"
  }
 },
 "nbformat": 4,
 "nbformat_minor": 2
}
